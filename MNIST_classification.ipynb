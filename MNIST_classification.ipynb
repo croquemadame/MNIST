{
 "cells": [
  {
   "cell_type": "markdown",
   "metadata": {
    "id": "qSi49U-E899I"
   },
   "source": [
    "Autor: Professor Edson C. V. Júnior / \n",
    "\n",
    "Linkedin: https://www.linkedin.com/in/edson-j%C3%BAnior-032a66162/\n",
    "\n",
    "OBS: Algumas partes de códigos foram extraídos do [notebook](https://github.com/ageron/handson-ml) do Aurélien Géron.\n",
    "\n",
    " O Aurélien conta com um excelente livro na área de ML [(Link de afiliado aqui).](https://www.amazon.com.br/gp/product/B07XGF2G87/ref=as_li_tl?ie=UTF8&camp=1789&creative=9325&creativeASIN=B07XGF2G87&linkCode=as2&tag=edsonjr0d-20&linkId=a0ddf45ae58cc1908c6511cdca2b5c5e)"
   ]
  },
  {
   "cell_type": "markdown",
   "metadata": {
    "id": "mbuf2o-UZL-x"
   },
   "source": [
    "#MNIST\n",
    "\n",
    "Neste pequeno notebook ilustraremos a aplicação de alguns conceitos de Machine Learning relativas ao problema de classificação de dígitos. Devido ao tamanho do dataset, não é intenção do notebook fazer otimizações de modelos, mas tão somente ilustrar alguns conceitos tais como:\n",
    "\n",
    "*   Visualização de imagens à partir de matrizes em escalas de cinza\n",
    "*   SGDClassifier (sklearn)\n",
    "*   GridSearch\n",
    "*   Tópicos em classificação multiclasse\n",
    "\n",
    "Bom aprendizado!\n",
    "\n",
    "\n"
   ]
  },
  {
   "cell_type": "markdown",
   "metadata": {
    "id": "4hHU7cjTZL-_"
   },
   "source": [
    "# Configurações iniciais"
   ]
  },
  {
   "cell_type": "markdown",
   "metadata": {
    "id": "4TOFvglyZL_A"
   },
   "source": [
    "\n",
    "Inicialmente, vamos importar alguns módulos comuns e configurar o matplotlib para funcionar mais elegantemente, além de configurar um módulo para salvar figuras."
   ]
  },
  {
   "cell_type": "code",
   "execution_count": 1,
   "metadata": {},
   "outputs": [
    {
     "name": "stdout",
     "output_type": "stream",
     "text": [
      "Requirement already satisfied: sklearn in /usr/local/lib/python3.8/site-packages (0.0)\n",
      "Requirement already satisfied: scikit-learn in /usr/local/lib/python3.8/site-packages (from sklearn) (0.24.0)\n",
      "Requirement already satisfied: scipy>=0.19.1 in /usr/local/lib/python3.8/site-packages (from scikit-learn->sklearn) (1.5.3)\n",
      "Requirement already satisfied: joblib>=0.11 in /usr/local/lib/python3.8/site-packages (from scikit-learn->sklearn) (1.0.0)\n",
      "Requirement already satisfied: numpy>=1.13.3 in /usr/local/lib/python3.8/site-packages (from scikit-learn->sklearn) (1.19.5)\n",
      "Requirement already satisfied: threadpoolctl>=2.0.0 in /usr/local/lib/python3.8/site-packages (from scikit-learn->sklearn) (2.1.0)\n"
     ]
    }
   ],
   "source": [
    "import sys\n",
    "!{sys.executable} -m pip install sklearn\n"
   ]
  },
  {
   "cell_type": "code",
   "execution_count": 2,
   "metadata": {
    "id": "-ZGRnOQ5ZL_B"
   },
   "outputs": [],
   "source": [
    "# Common imports\n",
    "import numpy as np\n",
    "import pandas as pd \n",
    "import os\n",
    "\n",
    "\n",
    "# Para ajudar na reproducibilidade\n",
    "# Aqui a seed é 42, mas não há nada de especial nisso\n",
    "np.random.seed(42)\n",
    "\n",
    "# To plot pretty figures\n",
    "%matplotlib inline\n",
    "import matplotlib as mpl\n",
    "import matplotlib.pyplot as plt\n",
    "mpl.rc('axes', labelsize=14)\n",
    "mpl.rc('xtick', labelsize=12)\n",
    "mpl.rc('ytick', labelsize=12)\n",
    "\n",
    "def save_fig(fig_id, tight_layout=True):\n",
    "    print(\"Saving figure\", fig_id)\n",
    "    if tight_layout:\n",
    "        plt.tight_layout()\n",
    "    plt.savefig(fig_id, format='png', dpi=600)"
   ]
  },
  {
   "cell_type": "markdown",
   "metadata": {
    "id": "XKM38I6yZL_C"
   },
   "source": [
    "# MNIST"
   ]
  },
  {
   "cell_type": "markdown",
   "metadata": {
    "id": "XMVcnYnFYcmx"
   },
   "source": [
    "Vamos agora importar o [MNIST dataset](https://en.wikipedia.org/wiki/MNIST_database), que um largo conjunto de dados que contém anotações à mão de dígitos, de 0 à 9. \n",
    "\n",
    "É um dataset muito utilizado para aprendizado, assim como referência quando se pretende testar novos algoritmos de classificação.\n",
    "\n"
   ]
  },
  {
   "cell_type": "markdown",
   "metadata": {
    "id": "Zz4ZuB2AZCV2"
   },
   "source": [
    " Vamos precisar importar o conjunto de dados. O sklearn já vem com uma rotina para buscar alguns datasets públicos, como é caso do MNIST. Para isso vamos utilizar 'fetch_openml()' para buscar o nosso conjunto de dados.\n",
    "\n",
    "<font color= '#5A35B6'>**Atenção:**</font>  A função `fetch_mldata()` está obsoleta desde o Scikit-Learn 0.20. Devemos, ao invés disso, utilizar o `fetch_openml()`. Observa que seguindo as boas práticas de ML, a nova função já retorna o MNIST de forma não ordenada, enquanto que `fetch_mldata()` retorna o conjunto de dados ordenados pelo rótulo. Poderá então haver diferenças dependendo da versão que você utilizar. Recomenda-se que você atualize a sua versão do sklearn.\n"
   ]
  },
  {
   "cell_type": "code",
   "execution_count": 3,
   "metadata": {
    "id": "jUuGpUJFbxnV"
   },
   "outputs": [],
   "source": [
    "#Importando dataset\n",
    "from sklearn.datasets import fetch_openml\n",
    "mnist = fetch_openml('mnist_784', version=1, as_frame=False, cache=True)\n",
    "mnist.target = mnist.target.astype(np.int8) # fetch_openml() returns targets as strings"
   ]
  },
  {
   "cell_type": "markdown",
   "metadata": {
    "id": "-6iYdbpycU0U"
   },
   "source": [
    "Vejamos o tipo dos dados que temos a nossa disposição"
   ]
  },
  {
   "cell_type": "code",
   "execution_count": 4,
   "metadata": {
    "colab": {
     "base_uri": "https://localhost:8080/"
    },
    "id": "eDLg5otOcJ6K",
    "outputId": "85f2ec5d-3c30-4f5f-d3ee-ed84596c619f"
   },
   "outputs": [
    {
     "data": {
      "text/plain": [
       "sklearn.utils.Bunch"
      ]
     },
     "execution_count": 4,
     "metadata": {},
     "output_type": "execute_result"
    }
   ],
   "source": [
    "type(mnist)"
   ]
  },
  {
   "cell_type": "markdown",
   "metadata": {
    "id": "OhwwkcB5cbj1"
   },
   "source": [
    "Esse tipo de dados é uma espécie de container implementada no Sklearn. Os elementos devem ser acessado através de \"chaves\" que dão acesso ao conjunto de dados. Para acessar as features, usamos a chave \"data\", ao passo que para acessar os rótulos usamos \"target\":"
   ]
  },
  {
   "cell_type": "code",
   "execution_count": 5,
   "metadata": {
    "colab": {
     "base_uri": "https://localhost:8080/"
    },
    "id": "lCc7FleEb-5j",
    "outputId": "d45ce066-68cb-4a5b-ce3a-89c2e1e6a69d"
   },
   "outputs": [
    {
     "data": {
      "text/plain": [
       "(array([[0., 0., 0., ..., 0., 0., 0.],\n",
       "        [0., 0., 0., ..., 0., 0., 0.],\n",
       "        [0., 0., 0., ..., 0., 0., 0.],\n",
       "        ...,\n",
       "        [0., 0., 0., ..., 0., 0., 0.],\n",
       "        [0., 0., 0., ..., 0., 0., 0.],\n",
       "        [0., 0., 0., ..., 0., 0., 0.]]),\n",
       " array([5, 0, 4, ..., 4, 5, 6], dtype=int8))"
      ]
     },
     "execution_count": 5,
     "metadata": {},
     "output_type": "execute_result"
    }
   ],
   "source": [
    "mnist[\"data\"], mnist[\"target\"]"
   ]
  },
  {
   "cell_type": "markdown",
   "metadata": {
    "id": "ELPnpBW_dFud"
   },
   "source": [
    "Você poderia também acessar como se fosse um atributo do objeto mnist:"
   ]
  },
  {
   "cell_type": "code",
   "execution_count": 6,
   "metadata": {
    "colab": {
     "base_uri": "https://localhost:8080/"
    },
    "id": "_havl2iIdAkg",
    "outputId": "74db98e0-25d1-491e-8d7f-5322f0e43e6f"
   },
   "outputs": [
    {
     "data": {
      "text/plain": [
       "array([[0., 0., 0., ..., 0., 0., 0.],\n",
       "       [0., 0., 0., ..., 0., 0., 0.],\n",
       "       [0., 0., 0., ..., 0., 0., 0.],\n",
       "       ...,\n",
       "       [0., 0., 0., ..., 0., 0., 0.],\n",
       "       [0., 0., 0., ..., 0., 0., 0.],\n",
       "       [0., 0., 0., ..., 0., 0., 0.]])"
      ]
     },
     "execution_count": 6,
     "metadata": {},
     "output_type": "execute_result"
    }
   ],
   "source": [
    "mnist.data"
   ]
  },
  {
   "cell_type": "markdown",
   "metadata": {
    "id": "iOyFcyoLdLjw"
   },
   "source": [
    "Vejamos as dimensões da matriz \"mnist.data\""
   ]
  },
  {
   "cell_type": "code",
   "execution_count": 7,
   "metadata": {
    "colab": {
     "base_uri": "https://localhost:8080/"
    },
    "id": "cngv8cTDZL_H",
    "outputId": "fd5a86be-15fa-4acd-8818-e65701764fad"
   },
   "outputs": [
    {
     "data": {
      "text/plain": [
       "(70000, 784)"
      ]
     },
     "execution_count": 7,
     "metadata": {},
     "output_type": "execute_result"
    }
   ],
   "source": [
    "mnist.data.shape"
   ]
  },
  {
   "cell_type": "markdown",
   "metadata": {
    "id": "H8LX_nlydQbu"
   },
   "source": [
    "Agora vamos instanciar as features do problemas em uma matriz X e os rótulos no vetor y"
   ]
  },
  {
   "cell_type": "code",
   "execution_count": 8,
   "metadata": {
    "colab": {
     "base_uri": "https://localhost:8080/"
    },
    "id": "x-1lTRg2ZL_I",
    "outputId": "7e611215-437d-4fbc-fbe0-84f1b2b34d5d"
   },
   "outputs": [
    {
     "name": "stdout",
     "output_type": "stream",
     "text": [
      "(70000, 784)\n",
      "(70000,)\n"
     ]
    }
   ],
   "source": [
    "X, y = mnist[\"data\"], mnist[\"target\"]\n",
    "print(X.shape)\n",
    "print(y.shape)"
   ]
  },
  {
   "cell_type": "markdown",
   "metadata": {
    "id": "tyetdzuwdiSY"
   },
   "source": [
    "Temos um total de 70000 instâncias e 784 features/características. Vamos agora tentar entender melhor do que se tratam essas 784 características.\n",
    "\n",
    "Primeiramente, devemos lembrar que os nossos dados são \n",
    "<font color= '#5A35B6'>**imagens**</font>. Para ser mais preciso, as 784 representam as intesidades, na escala preto e branco, de cada pixel de uma imagem quadrada com 28px em cada dimensão. \n",
    "\n",
    "Note que 28*28 = 784.\n",
    "\n",
    "Vamos agora pegar um dígito, redimensionar em 28 por 28 pixels e visualizar essa imagem.\n",
    "\n",
    "A seguir, chamamos o \"plt\" do matplotlib, colocando como argumento três paramêmtros:\n",
    "\n",
    "- A matriz que representa a imagem;\n",
    "\n",
    "- O mapeamento de cores (color map - cmap). No nosso caso, usaremos inicialmente um esquema binário preto e branco;\n",
    "\n",
    "- Método de interpolação: originalmente a nossa imagem tem dimensões 28X28 em pixels, ao passo que o matplotlib pode dispor a imagem em outras dimensões, requerendo uma técnica \"interpolação\" para preencher pixels faltando quando redimensionamos a imagem. Para essa finalidade, recomendo usar o método a seguir usando três técnicas: 'nearest', 'gaussian' e 'lanczos'. Em cada uma delas execute o código, que vai gerar uma imagem, após isso abra a imagem em outra aba e afaste (ctrl --) e aproxime (ctrl ++) a imagem para entender esse efeito da interpolação.\n",
    "\n"
   ]
  },
  {
   "cell_type": "code",
   "execution_count": 9,
   "metadata": {
    "colab": {
     "base_uri": "https://localhost:8080/",
     "height": 314
    },
    "id": "9HGUPU6GZL_K",
    "outputId": "572a2b7a-43ad-4f3f-9a68-7fe85e3bc478"
   },
   "outputs": [
    {
     "name": "stdout",
     "output_type": "stream",
     "text": [
      "Saving figure some_digit_plot\n"
     ]
    },
    {
     "data": {
      "image/png": "[encoded data removed]",
      "text/plain": [
       "<Figure size 432x288 with 1 Axes>"
      ]
     },
     "metadata": {
      "needs_background": "light"
     },
     "output_type": "display_data"
    }
   ],
   "source": [
    "some_digit = X[36000]\n",
    "some_digit_image = some_digit.reshape(28, 28)\n",
    "\n",
    "plt.imshow(some_digit_image, \n",
    "           cmap = mpl.cm.binary,\n",
    "           interpolation= 'nearest')\n",
    "\n",
    "plt.axis(\"off\") #para desligar os eixos da imagem\n",
    "\n",
    "save_fig(\"some_digit_plot\")\n",
    "plt.show()"
   ]
  },
  {
   "cell_type": "markdown",
   "metadata": {
    "id": "HZPAQHWnjwx3"
   },
   "source": [
    "Vejamos o rótulo:"
   ]
  },
  {
   "cell_type": "code",
   "execution_count": 10,
   "metadata": {
    "colab": {
     "base_uri": "https://localhost:8080/"
    },
    "id": "qvC9SJHFjvaZ",
    "outputId": "37910f96-be7f-4b2e-ad16-df47b735ba76"
   },
   "outputs": [
    {
     "data": {
      "text/plain": [
       "9"
      ]
     },
     "execution_count": 10,
     "metadata": {},
     "output_type": "execute_result"
    }
   ],
   "source": [
    "y[36000]"
   ]
  },
  {
   "cell_type": "markdown",
   "metadata": {
    "id": "kmCsEWTrjjsX"
   },
   "source": [
    "Vamos agora definir uma função que servirá para plotar as imagens, que basicamente organiza o código que ilustramos anteriormente, podendo ser chamado várias vezes se quisermos."
   ]
  },
  {
   "cell_type": "code",
   "execution_count": 11,
   "metadata": {
    "id": "dKQW4no6ZL_K"
   },
   "outputs": [],
   "source": [
    "def plot_digit(data):\n",
    "    image = data.reshape(28, 28)\n",
    "    plt.imshow(image, cmap = mpl.cm.binary,\n",
    "               interpolation=\"nearest\")\n",
    "    plt.axis(\"off\")"
   ]
  },
  {
   "cell_type": "markdown",
   "metadata": {
    "id": "iOv5FuLwkAIH"
   },
   "source": [
    "Agora vamos separa o nosso conjunto de treino e teste. Observe que não precisaríamos embaralhar os dados pois eles já vieram embaralhados!\n",
    "\n",
    "Mas vamo embaralhar apenas que você não se esqueça desse detalhe muito importante.\n",
    "\n",
    "Aqui estaremos utilizando 60000 imagens para treino e 10000 para teste."
   ]
  },
  {
   "cell_type": "code",
   "execution_count": 12,
   "metadata": {
    "id": "QWbFBiAoZL_O"
   },
   "outputs": [],
   "source": [
    "X_train, X_test, y_train, y_test = X[:60000], X[60000:], y[:60000], y[60000:]"
   ]
  },
  {
   "cell_type": "code",
   "execution_count": 13,
   "metadata": {
    "id": "4dAVZrvfZL_O"
   },
   "outputs": [],
   "source": [
    "#Embaralhemento \n",
    "shuffle_index = np.random.permutation(60000)\n",
    "X_train, y_train = X_train[shuffle_index], y_train[shuffle_index]"
   ]
  },
  {
   "cell_type": "markdown",
   "metadata": {
    "id": "UD74VS7XZL_m"
   },
   "source": [
    "# Multiclass classification"
   ]
  },
  {
   "cell_type": "markdown",
   "metadata": {
    "id": "CJ3_Xd0b31A8"
   },
   "source": [
    "Agora vamos usar o conjunto de treinamento através de um esquema de validação cruzada para eleger o modelo mais indicado para o nosso problema. \n",
    "\n",
    "Antes disso faça um estudo sobre modelos lineares que usam Gradiente Descendente Estocástico (SGD):\n",
    "\n",
    "- Faça uma leitura sobre assunto no [**guia do usuário**](https://scikit-learn.org/stable/modules/sgd.html#sgd) do sklearn. De acordo com o guia, esses modelos lineares são bem importantes para classificação de textos e processamento natural de linguagem (NLP);\n",
    "\n",
    "- Dê uma olhada no [**SGDClassifier do sklearn**](https://scikit-learn.org/stable/modules/generated/sklearn.linear_model.SGDClassifier.html#sklearn.linear_model.SGDClassifier). Leia os parágrafos inciais da documemtanção até parte que inicia a descrição dos parâmetros da classe, preste atenção principalmente nos parâmetros: \"loss\", \"penalty\" e \"alpha\".\n",
    "\n",
    "Vamos fazer uma otimização através dos seguintes parâmetros:\n",
    "\n",
    "loss : ['hinge', 'log']\n",
    "\n",
    "alpha: [1e-4,  1e-2,  1]\n",
    "\n",
    "Pode-se incluir a penalização também, mas evitaremos muitos parâmetros pois o treinamento é demorado."
   ]
  },
  {
   "cell_type": "code",
   "execution_count": 14,
   "metadata": {
    "colab": {
     "base_uri": "https://localhost:8080/"
    },
    "id": "YxMAoACmRwIo",
    "outputId": "a8b97fda-3b96-4c5e-f7a7-c9ce8d5bde30"
   },
   "outputs": [
    {
     "name": "stdout",
     "output_type": "stream",
     "text": [
      "Fitting 5 folds for each of 6 candidates, totalling 30 fits\n"
     ]
    },
    {
     "name": "stderr",
     "output_type": "stream",
     "text": [
      "/usr/local/lib/python3.8/site-packages/sklearn/linear_model/_stochastic_gradient.py:574: ConvergenceWarning: Maximum number of iteration reached before convergence. Consider increasing max_iter to improve the fit.\n",
      "  warnings.warn(\"Maximum number of iteration reached before \"\n"
     ]
    },
    {
     "data": {
      "text/plain": [
       "GridSearchCV(cv=5,\n",
       "             estimator=Pipeline(steps=[('std_scaler', StandardScaler()),\n",
       "                                       ('estimator',\n",
       "                                        SGDClassifier(max_iter=10,\n",
       "                                                      random_state=42))]),\n",
       "             n_jobs=-1,\n",
       "             param_grid=[{'estimator__alpha': [0.0001, 0.01, 1],\n",
       "                          'estimator__loss': ['hinge', 'log']}],\n",
       "             verbose=10)"
      ]
     },
     "execution_count": 14,
     "metadata": {},
     "output_type": "execute_result"
    }
   ],
   "source": [
    "from sklearn.linear_model import SGDClassifier \n",
    "from sklearn.model_selection import GridSearchCV\n",
    "from sklearn.pipeline import Pipeline #Para criar um pipeline!\n",
    "from sklearn.preprocessing import StandardScaler\n",
    "\n",
    "pipe = Pipeline([('std_scaler', StandardScaler()),\n",
    "                 ('estimator', SGDClassifier(max_iter = 10, random_state=42))\n",
    "             ]) #O nosso modelo passará pelo std_scaler e depois pelo estimador\n",
    "\n",
    "#Usaremos 10 epochs, por isso max_iter = 10 \n",
    "#Cuidado, valores alto de max_iter fazem o algortirmo demorar\n",
    "#Outros valores para max_iter ou random_state, vão alterar o resultado\n",
    "              \n",
    "param_grid = [{'estimator__loss' : ['hinge', 'log'],\n",
    "               'estimator__alpha': [1e-4, 1e-2, 1],\n",
    "               }] #grade de parâmetros para testar\n",
    "\n",
    "\"\"\"É necessário colocar o prefixo estimator__ para indicar que os parâmetros \n",
    "serão aplicados ao estimador. Você poderia tentar otimizar o pré-processamento\n",
    "dentro do pipeline também! Mas observa que muitos parâmetros tornam o processo\n",
    "bem demora.\n",
    "\"\"\"\n",
    "\n",
    "#Quanto maior o verbose no GridSearch, mais detalhes sobre o processo\n",
    "#n_jobs = -1 signifca o número de cores da máquina (-1 usa todos)\n",
    "grid_search = GridSearchCV(pipe, param_grid, cv=5, verbose=10, n_jobs=-1)\n",
    "grid_search.fit(X_train, y_train)"
   ]
  },
  {
   "cell_type": "markdown",
   "metadata": {
    "id": "gFq2z3afc_0i"
   },
   "source": [
    "Vamos agora visualizar os resultados"
   ]
  },
  {
   "cell_type": "code",
   "execution_count": 15,
   "metadata": {
    "colab": {
     "base_uri": "https://localhost:8080/",
     "height": 225
    },
    "id": "20dhXNEAcZhP",
    "outputId": "527aacef-7149-4392-c6ab-a6dc9f302b5f"
   },
   "outputs": [
    {
     "data": {
      "text/html": [
       "<div>\n",
       "<style scoped>\n",
       "    .dataframe tbody tr th:only-of-type {\n",
       "        vertical-align: middle;\n",
       "    }\n",
       "\n",
       "    .dataframe tbody tr th {\n",
       "        vertical-align: top;\n",
       "    }\n",
       "\n",
       "    .dataframe thead th {\n",
       "        text-align: right;\n",
       "    }\n",
       "</style>\n",
       "<table border=\"1\" class=\"dataframe\">\n",
       "  <thead>\n",
       "    <tr style=\"text-align: right;\">\n",
       "      <th></th>\n",
       "      <th>estimator__alpha</th>\n",
       "      <th>estimator__loss</th>\n",
       "      <th>Std</th>\n",
       "      <th>Score</th>\n",
       "    </tr>\n",
       "  </thead>\n",
       "  <tbody>\n",
       "    <tr>\n",
       "      <th>0</th>\n",
       "      <td>0.0001</td>\n",
       "      <td>hinge</td>\n",
       "      <td>0.002276</td>\n",
       "      <td>0.911800</td>\n",
       "    </tr>\n",
       "    <tr>\n",
       "      <th>1</th>\n",
       "      <td>0.0001</td>\n",
       "      <td>log</td>\n",
       "      <td>0.002614</td>\n",
       "      <td>0.911333</td>\n",
       "    </tr>\n",
       "    <tr>\n",
       "      <th>2</th>\n",
       "      <td>0.0100</td>\n",
       "      <td>hinge</td>\n",
       "      <td>0.003303</td>\n",
       "      <td>0.895133</td>\n",
       "    </tr>\n",
       "    <tr>\n",
       "      <th>3</th>\n",
       "      <td>0.0100</td>\n",
       "      <td>log</td>\n",
       "      <td>0.002763</td>\n",
       "      <td>0.894883</td>\n",
       "    </tr>\n",
       "    <tr>\n",
       "      <th>4</th>\n",
       "      <td>1.0000</td>\n",
       "      <td>hinge</td>\n",
       "      <td>0.005083</td>\n",
       "      <td>0.863683</td>\n",
       "    </tr>\n",
       "    <tr>\n",
       "      <th>5</th>\n",
       "      <td>1.0000</td>\n",
       "      <td>log</td>\n",
       "      <td>0.006217</td>\n",
       "      <td>0.840233</td>\n",
       "    </tr>\n",
       "  </tbody>\n",
       "</table>\n",
       "</div>"
      ],
      "text/plain": [
       "   estimator__alpha estimator__loss       Std     Score\n",
       "0            0.0001           hinge  0.002276  0.911800\n",
       "1            0.0001             log  0.002614  0.911333\n",
       "2            0.0100           hinge  0.003303  0.895133\n",
       "3            0.0100             log  0.002763  0.894883\n",
       "4            1.0000           hinge  0.005083  0.863683\n",
       "5            1.0000             log  0.006217  0.840233"
      ]
     },
     "execution_count": 15,
     "metadata": {},
     "output_type": "execute_result"
    }
   ],
   "source": [
    "results = pd.concat([pd.DataFrame(grid_search.cv_results_[\"params\"]),\n",
    "                     pd.DataFrame(grid_search.cv_results_['std_test_score'], \n",
    "                                  columns=[\"Std\"]),\n",
    "                     pd.DataFrame(grid_search.cv_results_[\"mean_test_score\"], \n",
    "                                  columns=[\"Score\"])],axis=1)\n",
    "\n",
    "results.sort_values(\"Score\", ascending=False) #Ordenamento decrescente"
   ]
  },
  {
   "cell_type": "markdown",
   "metadata": {
    "id": "NvvD-tfVaS-0"
   },
   "source": [
    "<font color= '#5A35B6'>**Observações**</font> importantes:\n",
    "\n",
    "\n",
    "\n",
    "* Fazendo uma análise preliminar, há indícios de que uma regularização l2 com alpha 0.0001 fornece as melhores respostas. Observa ainda que o modelo está indicado que está havendo subajuste (menor alpha, menos regularização), o que indica que deveríamos procurar um modelo mais complexo para a situação.\n",
    "\n",
    "*   Outro fato importante de se observar é que não estipulamos o \"score\" no gridSearch e nesse caso o score será herdado do estimador. No nosso exemplo o SGDClassifier por padrão calcula a acurácia, então o score na tabela significa acurácia. \n",
    "\n",
    "Vamos agora treinar um modelo com os melhores parametros do GridSearch."
   ]
  },
  {
   "cell_type": "code",
   "execution_count": 16,
   "metadata": {
    "colab": {
     "base_uri": "https://localhost:8080/"
    },
    "id": "wJ3H65RnvUX0",
    "outputId": "4b86b885-5970-4b07-b205-5b0fe40149f7"
   },
   "outputs": [
    {
     "data": {
      "text/plain": [
       "Pipeline(steps=[('std_scaler', StandardScaler()),\n",
       "                ('estimator', SGDClassifier(max_iter=10, random_state=42))])"
      ]
     },
     "execution_count": 16,
     "metadata": {},
     "output_type": "execute_result"
    }
   ],
   "source": [
    "model = Pipeline([('std_scaler', StandardScaler()),\n",
    "                 ('estimator', SGDClassifier(max_iter = 10, random_state=42))\n",
    "             ])\n",
    "\n",
    "model.set_params(**grid_search.best_params_) #Introduz no pipeline os parametros\n",
    "\n"
   ]
  },
  {
   "cell_type": "code",
   "execution_count": 17,
   "metadata": {
    "colab": {
     "base_uri": "https://localhost:8080/"
    },
    "id": "di-dwmsvx_Hb",
    "outputId": "a971a6e4-327d-432e-b4f8-1b69b771858e"
   },
   "outputs": [
    {
     "name": "stderr",
     "output_type": "stream",
     "text": [
      "/usr/local/lib/python3.8/site-packages/sklearn/linear_model/_stochastic_gradient.py:574: ConvergenceWarning: Maximum number of iteration reached before convergence. Consider increasing max_iter to improve the fit.\n",
      "  warnings.warn(\"Maximum number of iteration reached before \"\n"
     ]
    },
    {
     "data": {
      "text/plain": [
       "Pipeline(steps=[('std_scaler', StandardScaler()),\n",
       "                ('estimator', SGDClassifier(max_iter=10, random_state=42))])"
      ]
     },
     "execution_count": 17,
     "metadata": {},
     "output_type": "execute_result"
    }
   ],
   "source": [
    "#Treinando o modelo\n",
    "model.fit(X_train, y_train)"
   ]
  },
  {
   "cell_type": "markdown",
   "metadata": {
    "id": "LByZLgUJiWYg"
   },
   "source": [
    "Vamos agora pegar um elemento do conjunto de teste para dar uma pequena espiada se o modelo está funcionando. \n",
    "\n",
    "<font color= '#5A35B6'>**Cuidado**</font>: Teoricamente não se deve usar o conjunto de teste até o final do processo. Então devemos utilizar ele agora. Mas se quisermos ser bem rigorosos, no final bastaria não considerar essa única instância que faríamos esse teste preliminar."
   ]
  },
  {
   "cell_type": "code",
   "execution_count": 18,
   "metadata": {
    "colab": {
     "base_uri": "https://localhost:8080/"
    },
    "id": "rniEmReNgQCH",
    "outputId": "52ca6c14-419d-4be3-db8e-5f9649255c08"
   },
   "outputs": [
    {
     "data": {
      "text/plain": [
       "array([7], dtype=int8)"
      ]
     },
     "execution_count": 18,
     "metadata": {},
     "output_type": "execute_result"
    }
   ],
   "source": [
    "#Instanciando e treinando um digito em espcifico:\n",
    "some_digit = X_test[0]\n",
    "model.predict([some_digit])"
   ]
  },
  {
   "cell_type": "code",
   "execution_count": 19,
   "metadata": {
    "colab": {
     "base_uri": "https://localhost:8080/"
    },
    "id": "ACv01oXyyhoK",
    "outputId": "7196d5af-84c8-4621-8fdb-d3cb40c591fb"
   },
   "outputs": [
    {
     "data": {
      "text/plain": [
       "7"
      ]
     },
     "execution_count": 19,
     "metadata": {},
     "output_type": "execute_result"
    }
   ],
   "source": [
    "y_test[0]"
   ]
  },
  {
   "cell_type": "markdown",
   "metadata": {
    "id": "zxsO-wgEykAF"
   },
   "source": [
    "O resultado foi o esperado? \n",
    "\n",
    "O SGD é treinado em um esquema OvR, de forma que cada classe tem um estimador associado. Dessa forma, cada estimador fornece um score correspondente a uma certa classe, de forma que o algoritmo rotula a nova instância com o estimador que obteve o maior score."
   ]
  },
  {
   "cell_type": "code",
   "execution_count": 20,
   "metadata": {
    "colab": {
     "base_uri": "https://localhost:8080/"
    },
    "id": "cZys7jYGZL_n",
    "outputId": "5dcf9dc1-f70a-4c6a-fd6c-2613e6e121ff"
   },
   "outputs": [
    {
     "data": {
      "text/plain": [
       "array([[-1151.02879743, -1556.65704299, -1625.00768203,  -723.7029964 ,\n",
       "        -1224.37804869, -1266.90999103, -2350.40223502,   282.94034641,\n",
       "        -1326.0511831 ,  -306.38372845]])"
      ]
     },
     "execution_count": 20,
     "metadata": {},
     "output_type": "execute_result"
    }
   ],
   "source": [
    "some_digit_scores = model.decision_function([some_digit])\n",
    "some_digit_scores"
   ]
  },
  {
   "cell_type": "code",
   "execution_count": 21,
   "metadata": {
    "colab": {
     "base_uri": "https://localhost:8080/"
    },
    "id": "JPV7z783ZL_n",
    "outputId": "73d69401-ede8-4d5e-fe67-a0aaa3530255"
   },
   "outputs": [
    {
     "data": {
      "text/plain": [
       "7"
      ]
     },
     "execution_count": 21,
     "metadata": {},
     "output_type": "execute_result"
    }
   ],
   "source": [
    "np.argmax(some_digit_scores)"
   ]
  },
  {
   "cell_type": "code",
   "execution_count": 22,
   "metadata": {
    "colab": {
     "base_uri": "https://localhost:8080/"
    },
    "id": "Vm_tGokWZL_o",
    "outputId": "7058442b-cda8-43c6-f7a2-d624eafb606b"
   },
   "outputs": [
    {
     "data": {
      "text/plain": [
       "array([0, 1, 2, 3, 4, 5, 6, 7, 8, 9], dtype=int8)"
      ]
     },
     "execution_count": 22,
     "metadata": {},
     "output_type": "execute_result"
    }
   ],
   "source": [
    "model.classes_"
   ]
  },
  {
   "cell_type": "markdown",
   "metadata": {
    "id": "5yIa_JG5zT-l"
   },
   "source": [
    "Agora nós faremos uma coisa interessante: \n",
    "\n",
    "Vamos forçar o SGD a usar esquema OvO."
   ]
  },
  {
   "cell_type": "code",
   "execution_count": 23,
   "metadata": {
    "id": "PIBJMbkwZL_p"
   },
   "outputs": [],
   "source": [
    "#classe que implementa OvO na força\n",
    "from sklearn.multiclass import OneVsOneClassifier\n",
    "\n",
    "#Vamos aumentar o número de iterações.\n",
    "#Lembra que na técnica OvO há mais treinamentos mas pode ser interessante \n",
    "#quando o modelo sofre com a escala\n",
    "\n",
    "model = Pipeline([('std_scaler', StandardScaler()),\n",
    "                 ('estimator', SGDClassifier(max_iter = 1000, random_state=42))\n",
    "             ])\n",
    "\n",
    "model.set_params(**grid_search.best_params_)\n",
    "ovo_clf = OneVsOneClassifier(model)"
   ]
  },
  {
   "cell_type": "markdown",
   "metadata": {
    "id": "I07NohmM0jLW"
   },
   "source": [
    "Façamos uma validação cruzada para verificar o desempenho:"
   ]
  },
  {
   "cell_type": "code",
   "execution_count": 24,
   "metadata": {
    "id": "49wQQzUg0dRB"
   },
   "outputs": [],
   "source": [
    "from sklearn.model_selection import cross_val_score\n",
    "scores = cross_val_score(ovo_clf, X_train, y_train, cv=5)"
   ]
  },
  {
   "cell_type": "code",
   "execution_count": 25,
   "metadata": {
    "colab": {
     "base_uri": "https://localhost:8080/"
    },
    "id": "DgqBycS51fio",
    "outputId": "a1f7ab9f-f58e-43ea-e374-c2f559c69715"
   },
   "outputs": [
    {
     "data": {
      "text/plain": [
       "array([0.91583333, 0.91516667, 0.91408333, 0.91916667, 0.91333333])"
      ]
     },
     "execution_count": 25,
     "metadata": {},
     "output_type": "execute_result"
    }
   ],
   "source": [
    "scores"
   ]
  },
  {
   "cell_type": "code",
   "execution_count": 26,
   "metadata": {
    "colab": {
     "base_uri": "https://localhost:8080/"
    },
    "id": "3J2koe521hw7",
    "outputId": "aedc7131-936e-4946-b182-7666cb908660"
   },
   "outputs": [
    {
     "data": {
      "text/plain": [
       "0.9155166666666666"
      ]
     },
     "execution_count": 26,
     "metadata": {},
     "output_type": "execute_result"
    }
   ],
   "source": [
    "np.mean(scores)"
   ]
  },
  {
   "cell_type": "markdown",
   "metadata": {
    "id": "NC5ISJWL1yL2"
   },
   "source": [
    "Vamos treinar no conjunto de dados"
   ]
  },
  {
   "cell_type": "code",
   "execution_count": 27,
   "metadata": {
    "colab": {
     "base_uri": "https://localhost:8080/"
    },
    "id": "aBmoBigu0IZm",
    "outputId": "d0c40847-3f97-4189-f4eb-3d88ad5d5194"
   },
   "outputs": [
    {
     "data": {
      "text/plain": [
       "array([7], dtype=int8)"
      ]
     },
     "execution_count": 27,
     "metadata": {},
     "output_type": "execute_result"
    }
   ],
   "source": [
    "ovo_clf.fit(X_train, y_train)\n",
    "ovo_clf.predict([some_digit])"
   ]
  },
  {
   "cell_type": "markdown",
   "metadata": {
    "id": "4yUB8PpT00sS"
   },
   "source": [
    "Como temos 10 classes ao todo, no esquema OvO treinamos um total de  $\\displaystyle C_{10, 2} = \\frac{10!}{(10-2)! 2! } = 45$ modelos."
   ]
  },
  {
   "cell_type": "code",
   "execution_count": 28,
   "metadata": {
    "colab": {
     "base_uri": "https://localhost:8080/"
    },
    "id": "hrK08FtzZL_p",
    "outputId": "c44a640e-4149-4d01-a992-f0e5a03b7285"
   },
   "outputs": [
    {
     "data": {
      "text/plain": [
       "45"
      ]
     },
     "execution_count": 28,
     "metadata": {},
     "output_type": "execute_result"
    }
   ],
   "source": [
    "len(ovo_clf.estimators_)"
   ]
  },
  {
   "cell_type": "markdown",
   "metadata": {
    "id": "ypu3G4aF3kbM"
   },
   "source": [
    "Agora vamos preparar o nosso modelo para uma avaliação final no conjunto de teste.\n"
   ]
  },
  {
   "cell_type": "code",
   "execution_count": 29,
   "metadata": {
    "id": "UCEcaJ64ZL_r"
   },
   "outputs": [],
   "source": [
    "from sklearn.metrics  import confusion_matrix"
   ]
  },
  {
   "cell_type": "code",
   "execution_count": 30,
   "metadata": {
    "colab": {
     "base_uri": "https://localhost:8080/"
    },
    "id": "pDzbfuKlZL_s",
    "outputId": "4879cbd2-d528-4f68-fb3a-00828c407c36"
   },
   "outputs": [
    {
     "data": {
      "text/plain": [
       "array([[ 943,    0,   11,    2,    1,   10,    8,    2,    3,    0],\n",
       "       [   0, 1102,   11,    3,    0,    1,    1,    4,   13,    0],\n",
       "       [   4,    4,  970,   13,    2,    2,    5,    7,   21,    4],\n",
       "       [   3,    0,   18,  925,    1,   29,    1,    7,   22,    4],\n",
       "       [   2,    1,   17,    0,  922,    0,    2,    7,    8,   23],\n",
       "       [   6,    1,    6,   34,    5,  789,   10,    3,   31,    7],\n",
       "       [   8,    3,   25,    3,    9,   24,  884,    0,    2,    0],\n",
       "       [   0,    4,   25,   18,    3,    1,    0,  948,    5,   24],\n",
       "       [   5,    1,   10,   31,    7,   23,    5,    4,  882,    6],\n",
       "       [   5,    6,    6,    9,   37,    6,    0,   29,   22,  889]])"
      ]
     },
     "execution_count": 30,
     "metadata": {},
     "output_type": "execute_result"
    }
   ],
   "source": [
    "y_pred = ovo_clf.predict(X_test)\n",
    "conf_mx = confusion_matrix(y_test, y_pred)\n",
    "conf_mx"
   ]
  },
  {
   "cell_type": "code",
   "execution_count": 31,
   "metadata": {
    "colab": {
     "base_uri": "https://localhost:8080/"
    },
    "id": "7FaDkhi95qFt",
    "outputId": "9ec73335-6925-4471-89db-be4d4c60bbbd"
   },
   "outputs": [
    {
     "data": {
      "text/plain": [
       "0.9254"
      ]
     },
     "execution_count": 31,
     "metadata": {},
     "output_type": "execute_result"
    }
   ],
   "source": [
    "from sklearn.metrics import accuracy_score\n",
    "accuracy_score(y_test, y_pred)"
   ]
  },
  {
   "cell_type": "markdown",
   "metadata": {
    "id": "QG_uFcNS-Q6f"
   },
   "source": [
    "#Agora é a sua vez"
   ]
  },
  {
   "cell_type": "markdown",
   "metadata": {
    "id": "EwaYz6k8-U63"
   },
   "source": [
    "Agora você deve repetir o processo, mas utilizando uma etapa de pré-processamento chamando \"data augmentation\". No caso de imagens, essa técnica pode consistir de diversas metodologias, como: aumentar o número de instâncias de treinamento com rotações e translações das imagens. \n",
    "\n",
    "Nesse caso, a tua missão é treinar um novo modelo no MNIST utilizando translações no conjunto de treinamento. Fazendo isso, ensinamos o modelo a não esperar a figura centrada na imagem, podendo aumentar sua performance no teste. \n",
    "\n",
    "**Sua tarefa:**\n",
    "\n",
    "- Crie uma função  para aumentar o conjunto de **treinamento**, de forma a fazer translações nas imagens. Após isso, você deve treinar o SGDClassifier nesse conjunto de dados aumentado.\n",
    "\n",
    "- Teste o modelo no mesmo conjunto de teste que eu separei - isso é apenas um artifício didático para comparar o data augmentation, a partir do segundo teste a estimativa do erro de generalização deveria ser corrigida se quisermos obter uma estiva de performance!\n",
    "\n",
    "\n",
    "Se você estiver com dificuldades, veja a solução do exercício 2 aqui nesse [notebook](https://github.com/ageron/handson-ml/blob/master/03_classification.ipynb) do A. Géron."
   ]
  },
  {
   "cell_type": "markdown",
   "metadata": {},
   "source": [
    "Aqui vou usar o objeto ImageGenerator do pacote keras do tensorflow. Com ele é possível realizar várias operações sobre as imagens além de uma translação pura. "
   ]
  },
  {
   "cell_type": "code",
   "execution_count": 32,
   "metadata": {
    "id": "7QtFpoCI-p2M"
   },
   "outputs": [],
   "source": [
    "from tensorflow.keras.preprocessing.image import ImageDataGenerator"
   ]
  },
  {
   "cell_type": "markdown",
   "metadata": {},
   "source": [
    "Abaixo definimos a transformação desejada. No caso eu escolhi uma rotação aleatória de até 15 graus, um zoom aleatório de até 10%, além de translações de até 20% e também permiti reflexões das imagens, como veríamos em um espelho, por exemplo."
   ]
  },
  {
   "cell_type": "code",
   "execution_count": 33,
   "metadata": {},
   "outputs": [],
   "source": [
    "datagen = ImageDataGenerator(\n",
    "    rotation_range=15,  # randomly rotate images in the range (degrees, 0 to 180)\n",
    "    zoom_range=0.1,  # Randomly zoom image\n",
    "    width_shift_range=0.2,  # randomly shift images horizontally (fraction of total width)\n",
    "    height_shift_range=0.2,  # randomly shift images vertically (fraction of total height)\n",
    "    horizontal_flip=True,  # randomly flip images horizontally\n",
    "    vertical_flip=False,\n",
    ")  "
   ]
  },
  {
   "cell_type": "markdown",
   "metadata": {},
   "source": [
    "A função abaixo usa o método flow do ImageGenerator para transformar uma única imagem. Tipicamente não é essa a forma como o método é usado, por isso ajustei o argumento ''batch_size'' para lograr o objetivo desejado. A função retorna um vetor de dados com escala de cinza."
   ]
  },
  {
   "cell_type": "code",
   "execution_count": 34,
   "metadata": {},
   "outputs": [],
   "source": [
    "def augment_image(image):\n",
    "    image=image.reshape((-1,28, 28,1))\n",
    "    img_iter = datagen.flow(image, batch_size=1)\n",
    "    #image = image.reshape((1, ) + image.shape)\n",
    "    #augmented_image = datagen.flow(image, batch_size=1)\n",
    "    return img_iter[0].reshape([-1])"
   ]
  },
  {
   "cell_type": "markdown",
   "metadata": {},
   "source": [
    "Um exemplo do funcionamento da função"
   ]
  },
  {
   "cell_type": "code",
   "execution_count": 35,
   "metadata": {},
   "outputs": [
    {
     "data": {
      "image/png": "[encoded data removed]",
      "text/plain": [
       "<Figure size 864x216 with 2 Axes>"
      ]
     },
     "metadata": {
      "needs_background": "light"
     },
     "output_type": "display_data"
    }
   ],
   "source": [
    "image = X_train[100]\n",
    "augmented_image= augment_image(image)\n",
    "\n",
    "plt.figure(figsize=(12,3))\n",
    "plt.subplot(121)\n",
    "plt.title(\"Original\", fontsize=14)\n",
    "plt.imshow(image.reshape(28, 28), interpolation=\"nearest\", cmap=\"Greys\")\n",
    "plt.subplot(122)\n",
    "plt.title(\"Augmented\", fontsize=14)\n",
    "plt.imshow(augmented_image.reshape(28,28), interpolation=\"nearest\", cmap=\"Greys\")\n",
    "plt.show()"
   ]
  },
  {
   "cell_type": "markdown",
   "metadata": {},
   "source": [
    "Aqui faço uma cópia do conjunto de treinamento."
   ]
  },
  {
   "cell_type": "code",
   "execution_count": 36,
   "metadata": {},
   "outputs": [],
   "source": [
    "X_train_augmented = [image for image in X_train]\n",
    "y_train_augmented = [label for label in y_train]"
   ]
  },
  {
   "cell_type": "markdown",
   "metadata": {},
   "source": [
    "Aqui faço data_augmentation sobre o conjunto de treinamento."
   ]
  },
  {
   "cell_type": "code",
   "execution_count": 37,
   "metadata": {},
   "outputs": [],
   "source": [
    "for image, label in zip(X_train, y_train):\n",
    "        X_train_augmented.append(augment_image(image))\n",
    "        y_train_augmented.append(label)"
   ]
  },
  {
   "cell_type": "markdown",
   "metadata": {},
   "source": [
    "Transformação para o tipo np.array"
   ]
  },
  {
   "cell_type": "code",
   "execution_count": 38,
   "metadata": {},
   "outputs": [],
   "source": [
    "X_train_augmented = np.array(X_train_augmented)\n",
    "y_train_augmented = np.array(y_train_augmented)"
   ]
  },
  {
   "cell_type": "markdown",
   "metadata": {},
   "source": [
    "Definição do modelo \"augmented\" baseado no Classificador SGD anteriormente definido (OvO). Aqui os mesmos parâmetros obtidos anteriormente são usados, que foram obtidos a partir do conjunto de teste não augmentado."
   ]
  },
  {
   "cell_type": "code",
   "execution_count": 39,
   "metadata": {},
   "outputs": [],
   "source": [
    "model_augmented = Pipeline([('std_scaler', StandardScaler()),\n",
    "                 ('estimator', SGDClassifier(max_iter = 1000, random_state=42))\n",
    "             ])\n",
    "\n",
    "model_augmented.set_params(**grid_search.best_params_)\n",
    "ovo_clf_augmented = OneVsOneClassifier(model_augmented)"
   ]
  },
  {
   "cell_type": "markdown",
   "metadata": {},
   "source": [
    "Ajuste do modelo aos dados de treinamento e teste sobre um dos dados de treinamento."
   ]
  },
  {
   "cell_type": "code",
   "execution_count": 40,
   "metadata": {},
   "outputs": [
    {
     "data": {
      "text/plain": [
       "array([7], dtype=int8)"
      ]
     },
     "execution_count": 40,
     "metadata": {},
     "output_type": "execute_result"
    }
   ],
   "source": [
    "ovo_clf_augmented.fit(X_train_augmented, y_train_augmented)\n",
    "ovo_clf_augmented.predict([some_digit])"
   ]
  },
  {
   "cell_type": "code",
   "execution_count": 41,
   "metadata": {},
   "outputs": [
    {
     "data": {
      "text/plain": [
       "45"
      ]
     },
     "execution_count": 41,
     "metadata": {},
     "output_type": "execute_result"
    }
   ],
   "source": [
    "len(ovo_clf_augmented.estimators_)"
   ]
  },
  {
   "cell_type": "markdown",
   "metadata": {},
   "source": [
    "Agora conferimos o desempenho do modelo treinado com as imagens transformadas sobre o conjunto de teste das imagens não transformadas"
   ]
  },
  {
   "cell_type": "code",
   "execution_count": 42,
   "metadata": {},
   "outputs": [
    {
     "data": {
      "text/plain": [
       "array([[ 868,    7,    4,    7,   17,   52,    6,    6,   10,    3],\n",
       "       [   0, 1052,    4,    5,    2,   10,    4,    1,   56,    1],\n",
       "       [  34,   36,  729,  110,   37,    9,   39,    7,   25,    6],\n",
       "       [   7,   35,    5,  860,   12,   30,    4,   16,   26,   15],\n",
       "       [   3,   17,    3,    0,  899,    0,   19,    7,    2,   32],\n",
       "       [  18,   33,    7,  103,   56,  587,    9,   24,   41,   14],\n",
       "       [  12,   15,    3,    1,   34,   19,  860,    0,    8,    6],\n",
       "       [   4,   36,    8,   21,   36,    2,    2,  830,   22,   67],\n",
       "       [   7,   35,    6,   61,   23,   47,    4,   17,  764,   10],\n",
       "       [   9,   18,    2,    9,   44,    7,    6,   39,   12,  863]])"
      ]
     },
     "execution_count": 42,
     "metadata": {},
     "output_type": "execute_result"
    }
   ],
   "source": [
    "y_pred_augmented = ovo_clf_augmented.predict(X_test)\n",
    "conf_mx_augmented = confusion_matrix(y_test, y_pred_augmented)\n",
    "conf_mx_augmented"
   ]
  },
  {
   "cell_type": "code",
   "execution_count": 43,
   "metadata": {},
   "outputs": [
    {
     "data": {
      "text/plain": [
       "0.8312"
      ]
     },
     "execution_count": 43,
     "metadata": {},
     "output_type": "execute_result"
    }
   ],
   "source": [
    "accuracy_score(y_test, y_pred_augmented)"
   ]
  },
  {
   "cell_type": "markdown",
   "metadata": {},
   "source": [
    "O resultado obtido é pior. De uma certa forma eu esperava isso porque estamos usando parâmetros otimizados para um conjunto de treinamento não transformado e treinando sobre um conjunto transformado para predizer um conjunto não transformado. Na seguinte etapa vamos transformar também o conjunto de teste."
   ]
  },
  {
   "cell_type": "code",
   "execution_count": 44,
   "metadata": {},
   "outputs": [],
   "source": [
    "X_test_augmented = [image for image in X_test]\n",
    "y_test_augmented = [label for label in y_test]"
   ]
  },
  {
   "cell_type": "code",
   "execution_count": 45,
   "metadata": {},
   "outputs": [],
   "source": [
    "for image, label in zip(X_test, y_test):\n",
    "        X_test_augmented.append(augment_image(image))\n",
    "        y_test_augmented.append(label)"
   ]
  },
  {
   "cell_type": "markdown",
   "metadata": {},
   "source": [
    "Agora vamos verificar o desempenho de ambos os modelos sobre esse conjunto de teste transformado."
   ]
  },
  {
   "cell_type": "code",
   "execution_count": 47,
   "metadata": {},
   "outputs": [
    {
     "data": {
      "text/plain": [
       "array([[1036,   73,  379,  102,   83,  121,   60,   21,   21,   64],\n",
       "       [  23, 1230,  232,  224,   36,  264,  110,   71,   41,   39],\n",
       "       [  34,   49, 1484,  111,   81,   99,   63,   26,   45,   72],\n",
       "       [  19,   48,  333, 1108,   57,  156,   55,   58,   71,  115],\n",
       "       [  31,   39,  233,  104, 1105,  188,   52,   57,   75,   80],\n",
       "       [  37,   37,  257,  161,   58,  946,   68,   60,   77,   83],\n",
       "       [  37,   35,  484,   89,   84,  128, 1023,    4,   19,   13],\n",
       "       [  16,   27,  159,  178,   62,  220,   37, 1127,   84,  146],\n",
       "       [  20,   29,  304,  179,   48,  148,   60,   51,  996,  113],\n",
       "       [  19,   33,  168,  160,  105,  202,   20,  124,  134, 1053]])"
      ]
     },
     "execution_count": 47,
     "metadata": {},
     "output_type": "execute_result"
    }
   ],
   "source": [
    "y_pred = ovo_clf.predict(X_test_augmented)\n",
    "conf_mx = confusion_matrix(y_test_augmented, y_pred)\n",
    "conf_mx"
   ]
  },
  {
   "cell_type": "code",
   "execution_count": 48,
   "metadata": {},
   "outputs": [
    {
     "data": {
      "text/plain": [
       "0.5554"
      ]
     },
     "execution_count": 48,
     "metadata": {},
     "output_type": "execute_result"
    }
   ],
   "source": [
    "accuracy_score(y_test_augmented, y_pred)"
   ]
  },
  {
   "cell_type": "code",
   "execution_count": 49,
   "metadata": {},
   "outputs": [
    {
     "data": {
      "text/plain": [
       "array([[1293,   13,  142,  115,   54,  112,   68,   52,   86,   25],\n",
       "       [  13, 1767,   28,   80,   52,  102,   33,   72,   95,   28],\n",
       "       [ 139,   57, 1037,  273,   94,   67,  224,   47,   97,   29],\n",
       "       [ 149,   84,  137, 1094,   32,  162,   41,  107,  162,   52],\n",
       "       [  38,   60,   69,   20, 1205,   43,  214,  103,   33,  179],\n",
       "       [  97,   68,  111,  244,  111,  756,   57,  131,  145,   64],\n",
       "       [  61,   49,  151,   50,  183,   47, 1255,   15,   54,   51],\n",
       "       [  55,  111,   37,   98,  115,  122,   41, 1185,   85,  207],\n",
       "       [ 134,   59,   85,  209,   64,  155,   63,   92, 1013,   74],\n",
       "       [  57,   57,   34,   45,  225,   56,   69,  285,   59, 1131]])"
      ]
     },
     "execution_count": 49,
     "metadata": {},
     "output_type": "execute_result"
    }
   ],
   "source": [
    "y_pred_augmented = ovo_clf_augmented.predict(X_test_augmented)\n",
    "conf_mx_augmented = confusion_matrix(y_test_augmented, y_pred_augmented)\n",
    "conf_mx_augmented"
   ]
  },
  {
   "cell_type": "code",
   "execution_count": 50,
   "metadata": {},
   "outputs": [
    {
     "data": {
      "text/plain": [
       "0.5868"
      ]
     },
     "execution_count": 50,
     "metadata": {},
     "output_type": "execute_result"
    }
   ],
   "source": [
    "accuracy_score(y_test_augmented, y_pred_augmented)"
   ]
  },
  {
   "cell_type": "markdown",
   "metadata": {},
   "source": [
    "Vemos que o modelo que foi treinado com o conjunto transformado teve um desempenho ligeiramente melhor sobre o conjunto de teste transformado. A seguir vamos procurar um conjunto de parâmetros ótimo para o modelo que será testado sobre o conjunto de teste transformado. Usaremos para isso o conjunto de treinamento transformado."
   ]
  },
  {
   "cell_type": "code",
   "execution_count": 51,
   "metadata": {},
   "outputs": [
    {
     "name": "stdout",
     "output_type": "stream",
     "text": [
      "Fitting 5 folds for each of 6 candidates, totalling 30 fits\n"
     ]
    },
    {
     "name": "stderr",
     "output_type": "stream",
     "text": [
      "/usr/local/lib/python3.8/site-packages/sklearn/linear_model/_stochastic_gradient.py:574: ConvergenceWarning: Maximum number of iteration reached before convergence. Consider increasing max_iter to improve the fit.\n",
      "  warnings.warn(\"Maximum number of iteration reached before \"\n"
     ]
    },
    {
     "data": {
      "text/plain": [
       "GridSearchCV(cv=5,\n",
       "             estimator=Pipeline(steps=[('std_scaler', StandardScaler()),\n",
       "                                       ('estimator',\n",
       "                                        SGDClassifier(max_iter=10,\n",
       "                                                      random_state=42))]),\n",
       "             n_jobs=-1,\n",
       "             param_grid=[{'estimator__alpha': [0.0001, 0.01, 1],\n",
       "                          'estimator__loss': ['hinge', 'log']}],\n",
       "             verbose=10)"
      ]
     },
     "execution_count": 51,
     "metadata": {},
     "output_type": "execute_result"
    }
   ],
   "source": [
    "pipe_augmented = Pipeline([('std_scaler', StandardScaler()),\n",
    "                 ('estimator', SGDClassifier(max_iter = 10, random_state=42))\n",
    "             ]) #O nosso modelo passará pelo std_scaler e depois pelo estimador\n",
    "\n",
    "#Usaremos 10 epochs, por isso max_iter = 10 \n",
    "#Cuidado, valores alto de max_iter fazem o algortirmo demorar\n",
    "#Outros valores para max_iter ou random_state, vão alterar o resultado\n",
    "              \n",
    "param_grid = [{'estimator__loss' : ['hinge', 'log'],\n",
    "               'estimator__alpha': [1e-4, 1e-2, 1],\n",
    "               }] #grade de parâmetros para testar\n",
    "\n",
    "\"\"\"É necessário colocar o prefixo estimator__ para indicar que os parâmetros \n",
    "serão aplicados ao estimador. Você poderia tentar otimizar o pré-processamento\n",
    "dentro do pipeline também! Mas observa que muitos parâmetros tornam o processo\n",
    "bem demora.\n",
    "\"\"\"\n",
    "\n",
    "#Quanto maior o verbose no GridSearch, mais detalhes sobre o processo\n",
    "#n_jobs = -1 signifca o número de cores da máquina (-1 usa todos)\n",
    "grid_search_augmented = GridSearchCV(pipe_augmented, param_grid, cv=5, verbose=10, n_jobs=-1)\n",
    "grid_search_augmented.fit(X_train_augmented, y_train_augmented)"
   ]
  },
  {
   "cell_type": "markdown",
   "metadata": {},
   "source": [
    "Vejamos o resultado"
   ]
  },
  {
   "cell_type": "code",
   "execution_count": 52,
   "metadata": {},
   "outputs": [
    {
     "data": {
      "text/html": [
       "<div>\n",
       "<style scoped>\n",
       "    .dataframe tbody tr th:only-of-type {\n",
       "        vertical-align: middle;\n",
       "    }\n",
       "\n",
       "    .dataframe tbody tr th {\n",
       "        vertical-align: top;\n",
       "    }\n",
       "\n",
       "    .dataframe thead th {\n",
       "        text-align: right;\n",
       "    }\n",
       "</style>\n",
       "<table border=\"1\" class=\"dataframe\">\n",
       "  <thead>\n",
       "    <tr style=\"text-align: right;\">\n",
       "      <th></th>\n",
       "      <th>estimator__alpha</th>\n",
       "      <th>estimator__loss</th>\n",
       "      <th>Std</th>\n",
       "      <th>Score</th>\n",
       "    </tr>\n",
       "  </thead>\n",
       "  <tbody>\n",
       "    <tr>\n",
       "      <th>3</th>\n",
       "      <td>0.0100</td>\n",
       "      <td>log</td>\n",
       "      <td>0.239188</td>\n",
       "      <td>0.551717</td>\n",
       "    </tr>\n",
       "    <tr>\n",
       "      <th>2</th>\n",
       "      <td>0.0100</td>\n",
       "      <td>hinge</td>\n",
       "      <td>0.238311</td>\n",
       "      <td>0.551467</td>\n",
       "    </tr>\n",
       "    <tr>\n",
       "      <th>4</th>\n",
       "      <td>1.0000</td>\n",
       "      <td>hinge</td>\n",
       "      <td>0.241324</td>\n",
       "      <td>0.521350</td>\n",
       "    </tr>\n",
       "    <tr>\n",
       "      <th>5</th>\n",
       "      <td>1.0000</td>\n",
       "      <td>log</td>\n",
       "      <td>0.223958</td>\n",
       "      <td>0.507908</td>\n",
       "    </tr>\n",
       "    <tr>\n",
       "      <th>1</th>\n",
       "      <td>0.0001</td>\n",
       "      <td>log</td>\n",
       "      <td>0.201097</td>\n",
       "      <td>0.462675</td>\n",
       "    </tr>\n",
       "    <tr>\n",
       "      <th>0</th>\n",
       "      <td>0.0001</td>\n",
       "      <td>hinge</td>\n",
       "      <td>0.200287</td>\n",
       "      <td>0.462250</td>\n",
       "    </tr>\n",
       "  </tbody>\n",
       "</table>\n",
       "</div>"
      ],
      "text/plain": [
       "   estimator__alpha estimator__loss       Std     Score\n",
       "3            0.0100             log  0.239188  0.551717\n",
       "2            0.0100           hinge  0.238311  0.551467\n",
       "4            1.0000           hinge  0.241324  0.521350\n",
       "5            1.0000             log  0.223958  0.507908\n",
       "1            0.0001             log  0.201097  0.462675\n",
       "0            0.0001           hinge  0.200287  0.462250"
      ]
     },
     "execution_count": 52,
     "metadata": {},
     "output_type": "execute_result"
    }
   ],
   "source": [
    "results_augmented = pd.concat([pd.DataFrame(grid_search_augmented.cv_results_[\"params\"]),\n",
    "                     pd.DataFrame(grid_search_augmented.cv_results_['std_test_score'], \n",
    "                                  columns=[\"Std\"]),\n",
    "                     pd.DataFrame(grid_search_augmented.cv_results_[\"mean_test_score\"], \n",
    "                                  columns=[\"Score\"])],axis=1)\n",
    "\n",
    "results_augmented.sort_values(\"Score\", ascending=False) #Ordenamento decrescente"
   ]
  },
  {
   "cell_type": "markdown",
   "metadata": {},
   "source": [
    "Definimos um novo modelo a partir dos parâmetros ótimos encontrados"
   ]
  },
  {
   "cell_type": "code",
   "execution_count": 53,
   "metadata": {},
   "outputs": [],
   "source": [
    "model2_augmented = Pipeline([('std_scaler', StandardScaler()),\n",
    "                 ('estimator', SGDClassifier(max_iter = 1000, random_state=42))\n",
    "             ])\n",
    "\n",
    "model2_augmented.set_params(**grid_search_augmented.best_params_)\n",
    "ovo_clf2_augmented = OneVsOneClassifier(model2_augmented)"
   ]
  },
  {
   "cell_type": "markdown",
   "metadata": {},
   "source": [
    "Treinamos o modelo"
   ]
  },
  {
   "cell_type": "code",
   "execution_count": 54,
   "metadata": {},
   "outputs": [
    {
     "data": {
      "text/plain": [
       "array([7], dtype=int8)"
      ]
     },
     "execution_count": 54,
     "metadata": {},
     "output_type": "execute_result"
    }
   ],
   "source": [
    "ovo_clf2_augmented.fit(X_train_augmented, y_train_augmented)\n",
    "ovo_clf2_augmented.predict([some_digit])"
   ]
  },
  {
   "cell_type": "markdown",
   "metadata": {},
   "source": [
    "E verificamos o desempenho contra o conjunto de teste transformado"
   ]
  },
  {
   "cell_type": "code",
   "execution_count": 56,
   "metadata": {},
   "outputs": [
    {
     "data": {
      "text/plain": [
       "array([[1388,   10,  142,  128,   62,   89,   51,   35,   31,   24],\n",
       "       [  20, 1910,   15,   49,   61,   46,   21,   59,   65,   24],\n",
       "       [ 128,   59, 1221,  165,  102,   74,  183,   37,   62,   33],\n",
       "       [ 166,   98,  145, 1112,   35,  106,   47,  117,  155,   39],\n",
       "       [  31,   54,   56,   14, 1331,   35,  171,   86,   16,  170],\n",
       "       [  89,   75,  110,  241,  107,  806,   47,  142,   99,   68],\n",
       "       [  71,   58,  166,   39,  160,   41, 1314,    6,   13,   48],\n",
       "       [  54,  118,   40,  103,   90,  108,   20, 1281,   62,  180],\n",
       "       [ 160,   65,   76,  181,   79,   95,   60,   79, 1088,   65],\n",
       "       [  52,   67,   29,   54,  205,   43,   59,  224,   54, 1231]])"
      ]
     },
     "execution_count": 56,
     "metadata": {},
     "output_type": "execute_result"
    }
   ],
   "source": [
    "y_pred2_augmented = ovo_clf2_augmented.predict(X_test_augmented)\n",
    "conf_mx2_augmented = confusion_matrix(y_test_augmented, y_pred2_augmented)\n",
    "conf_mx2_augmented"
   ]
  },
  {
   "cell_type": "code",
   "execution_count": 57,
   "metadata": {},
   "outputs": [
    {
     "data": {
      "text/plain": [
       "0.6341"
      ]
     },
     "execution_count": 57,
     "metadata": {},
     "output_type": "execute_result"
    }
   ],
   "source": [
    "accuracy_score(y_test_augmented, y_pred2_augmented)"
   ]
  },
  {
   "cell_type": "markdown",
   "metadata": {},
   "source": [
    "Há uma melhora no desempenho, mas ainda é baixo comparado ao modelo original sobre os dados não transformados. O que os resultados indicam é queo modelo precisa incorporar um maior nível de complexidade para lidar com as imagens modificadas. "
   ]
  },
  {
   "cell_type": "code",
   "execution_count": null,
   "metadata": {},
   "outputs": [],
   "source": []
  }
 ],
 "metadata": {
  "colab": {
   "collapsed_sections": [],
   "name": "MNIST_classification.ipynb",
   "provenance": [],
   "toc_visible": true
  },
  "kernelspec": {
   "display_name": "Python 3",
   "language": "python",
   "name": "python3"
  },
  "language_info": {
   "codemirror_mode": {
    "name": "ipython",
    "version": 3
   },
   "file_extension": ".py",
   "mimetype": "text/x-python",
   "name": "python",
   "nbconvert_exporter": "python",
   "pygments_lexer": "ipython3",
   "version": "3.8.6"
  },
  "nav_menu": {},
  "toc": {
   "navigate_menu": true,
   "number_sections": true,
   "sideBar": true,
   "threshold": 6,
   "toc_cell": false,
   "toc_section_display": "block",
   "toc_window_display": false
  }
 },
 "nbformat": 4,
 "nbformat_minor": 1
}
